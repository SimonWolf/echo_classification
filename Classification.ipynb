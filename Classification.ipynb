{
 "cells": [
  {
   "cell_type": "code",
   "execution_count": 1,
   "metadata": {},
   "outputs": [],
   "source": [
    "import tensorflow as tf\n",
    "import matplotlib.pyplot as plt\n",
    "from tensorflow import keras\n",
    "import pathlib\n",
    "import numpy as np\n",
    "import os\n",
    "AUTOTUNE = tf.data.experimental.AUTOTUNE"
   ]
  },
  {
   "cell_type": "code",
   "execution_count": 2,
   "metadata": {},
   "outputs": [],
   "source": [
    "data_dir = pathlib.Path(\"data\")\n",
    "list_ds = tf.data.Dataset.list_files(str(data_dir/'*/*.png'))\n",
    "CLASS_NAMES = np.array([item.name for item in data_dir.glob('*') if item.name != \"LICENSE.txt\"])\n",
    "image_count = len(list(data_dir.glob('*/*.png')))"
   ]
  },
  {
   "cell_type": "code",
   "execution_count": 3,
   "metadata": {},
   "outputs": [],
   "source": [
    "BATCH_SIZE = 32\n",
    "IMG_HEIGHT = 400\n",
    "IMG_WIDTH = 400\n",
    "STEPS_PER_EPOCH = np.ceil(image_count/BATCH_SIZE)\n"
   ]
  },
  {
   "cell_type": "code",
   "execution_count": 4,
   "metadata": {},
   "outputs": [],
   "source": [
    "\n",
    "def get_label(file_path):\n",
    "    # convert the path to a list of path components\n",
    "    parts = tf.strings.split(file_path, os.path.sep)\n",
    "    # The second to last is the class-directory\n",
    "    return parts[-2] == CLASS_NAMES\n",
    "def decode_img(img):\n",
    "    # convert the compressed string to a 3D uint8 tensor\n",
    "    img = tf.image.decode_png(img)\n",
    "    # Use `convert_image_dtype` to convert to floats in the [0,1] range.\n",
    "    img = tf.image.convert_image_dtype(img, tf.float32)\n",
    "    # resize the image to the desired size.\n",
    "    return tf.image.resize(img, [IMG_WIDTH, IMG_HEIGHT])\n",
    "\n",
    "def process_path(file_path):\n",
    "    label = get_label(file_path)\n",
    "    # load the raw data from the file as a string\n",
    "    img = tf.io.read_file(file_path)\n",
    "    img = decode_img(img)\n",
    "    return img, label\n"
   ]
  },
  {
   "cell_type": "code",
   "execution_count": 96,
   "metadata": {},
   "outputs": [],
   "source": [
    "def prepare_for_training(ds, cache=True, shuffle_buffer_size=1000):\n",
    "    # This is a small dataset, only load it once, and keep it in memory.\n",
    "    # use `.cache(filename)` to cache preprocessing work for datasets that don't\n",
    "    # fit in memory.\n",
    "    if cache:\n",
    "        if isinstance(cache, str):\n",
    "            ds = ds.cache(cache)\n",
    "        else:\n",
    "            ds = ds.cache()\n",
    "\n",
    "    ds = ds.shuffle(buffer_size=shuffle_buffer_size)\n",
    "\n",
    "    # Repeat forever\n",
    "    ds = ds.repeat()\n",
    "\n",
    "    ds = ds.batch(32)\n",
    "\n",
    "    # `prefetch` lets the dataset fetch batches in the background while the model\n",
    "    # is training.\n",
    "    ds = ds.prefetch(buffer_size=AUTOTUNE)\n",
    "\n",
    "    return ds"
   ]
  },
  {
   "cell_type": "code",
   "execution_count": 97,
   "metadata": {},
   "outputs": [],
   "source": [
    "full_dataset  = list_ds.map(process_path, num_parallel_calls=AUTOTUNE)\n",
    "#train_ds = prepare_for_training(full_dataset)\n",
    "#full_dataset = (full_dataset.map(normalize).shuffle(50000).batch(128, drop_remainder=True))#\n",
    "#\n",
    "train_dataset = prepare_for_training(full_dataset.take(int(image_count*0.8)))\n",
    "test_dataset = prepare_for_training(full_dataset.skip(int(image_count*0.8)))"
   ]
  },
  {
   "cell_type": "code",
   "execution_count": 98,
   "metadata": {},
   "outputs": [
    {
     "name": "stdout",
     "output_type": "stream",
     "text": [
      "Image shape:  (32, 400, 400, 1)\n",
      "Label:  [[False  True False]\n",
      " [False False  True]\n",
      " [False False  True]\n",
      " [ True False False]\n",
      " [False False  True]\n",
      " [False  True False]\n",
      " [False  True False]\n",
      " [ True False False]\n",
      " [False  True False]\n",
      " [ True False False]\n",
      " [ True False False]\n",
      " [ True False False]\n",
      " [False  True False]\n",
      " [False False  True]\n",
      " [False False  True]\n",
      " [ True False False]\n",
      " [ True False False]\n",
      " [False  True False]\n",
      " [False False  True]\n",
      " [False  True False]\n",
      " [False False  True]\n",
      " [False False  True]\n",
      " [False False  True]\n",
      " [False False  True]\n",
      " [False False  True]\n",
      " [False False  True]\n",
      " [ True False False]\n",
      " [ True False False]\n",
      " [False False  True]\n",
      " [False  True False]\n",
      " [False  True False]\n",
      " [False  True False]]\n",
      "Label:  (32, 3)\n"
     ]
    }
   ],
   "source": [
    "for image, label in train_dataset.take(1):\n",
    "    print(\"Image shape: \", image.numpy().shape)\n",
    "    print(\"Label: \", label.numpy())\n",
    "    print(\"Label: \", label.numpy().shape)\n"
   ]
  },
  {
   "cell_type": "code",
   "execution_count": 111,
   "metadata": {},
   "outputs": [
    {
     "name": "stdout",
     "output_type": "stream",
     "text": [
      "Model: \"sequential_20\"\n",
      "_________________________________________________________________\n",
      "Layer (type)                 Output Shape              Param #   \n",
      "=================================================================\n",
      "inputlayer (Conv2D)          (None, 400, 400, 8)       80        \n",
      "_________________________________________________________________\n",
      "max_pooling2d_122 (MaxPoolin (None, 200, 200, 8)       0         \n",
      "_________________________________________________________________\n",
      "conv2d_102 (Conv2D)          (None, 200, 200, 16)      1168      \n",
      "_________________________________________________________________\n",
      "max_pooling2d_123 (MaxPoolin (None, 100, 100, 16)      0         \n",
      "_________________________________________________________________\n",
      "conv2d_103 (Conv2D)          (None, 100, 100, 32)      4640      \n",
      "_________________________________________________________________\n",
      "max_pooling2d_124 (MaxPoolin (None, 50, 50, 32)        0         \n",
      "_________________________________________________________________\n",
      "conv2d_104 (Conv2D)          (None, 50, 50, 64)        18496     \n",
      "_________________________________________________________________\n",
      "max_pooling2d_125 (MaxPoolin (None, 25, 25, 64)        0         \n",
      "_________________________________________________________________\n",
      "conv2d_105 (Conv2D)          (None, 25, 25, 128)       73856     \n",
      "_________________________________________________________________\n",
      "max_pooling2d_126 (MaxPoolin (None, 12, 12, 128)       0         \n",
      "_________________________________________________________________\n",
      "conv2d_106 (Conv2D)          (None, 12, 12, 256)       295168    \n",
      "_________________________________________________________________\n",
      "max_pooling2d_127 (MaxPoolin (None, 6, 6, 256)         0         \n",
      "_________________________________________________________________\n",
      "conv2d_107 (Conv2D)          (None, 6, 6, 128)         295040    \n",
      "_________________________________________________________________\n",
      "max_pooling2d_128 (MaxPoolin (None, 3, 3, 128)         0         \n",
      "_________________________________________________________________\n",
      "conv2d_108 (Conv2D)          (None, 3, 3, 64)          73792     \n",
      "_________________________________________________________________\n",
      "max_pooling2d_129 (MaxPoolin (None, 1, 1, 64)          0         \n",
      "_________________________________________________________________\n",
      "flatten_20 (Flatten)         (None, 64)                0         \n",
      "_________________________________________________________________\n",
      "dense_20 (Dense)             (None, 512)               33280     \n",
      "_________________________________________________________________\n",
      "output (Dense)               (None, 3)                 1539      \n",
      "=================================================================\n",
      "Total params: 797,059\n",
      "Trainable params: 797,059\n",
      "Non-trainable params: 0\n",
      "_________________________________________________________________\n"
     ]
    }
   ],
   "source": [
    "from tensorflow.keras.models import Sequential\n",
    "from tensorflow.keras.layers import Conv2D, MaxPooling2D, Flatten, Dense\n",
    "\n",
    "model = Sequential([\n",
    "    Conv2D(8, 3, padding='same', activation='relu', input_shape=(400, 400,1),name=\"inputlayer\"),\n",
    "    MaxPooling2D(),\n",
    "    Conv2D(16, 3, padding='same', activation='relu'),\n",
    "    MaxPooling2D(),\n",
    "    Conv2D(32, 3, padding='same', activation='relu'),\n",
    "    MaxPooling2D(),\n",
    "    Conv2D(64, 3, padding='same', activation='relu'),\n",
    "    MaxPooling2D(),\n",
    "    Conv2D(128, 3, padding='same', activation='relu'),\n",
    "    MaxPooling2D(),\n",
    "    Conv2D(256, 3, padding='same', activation='relu'),\n",
    "    MaxPooling2D(),\n",
    "    Conv2D(128, 3, padding='same', activation='relu'),\n",
    "    MaxPooling2D(),\n",
    "    Conv2D(64, 3, padding='same', activation='relu'),\n",
    "    MaxPooling2D(),\n",
    "    Flatten(),\n",
    "    Dense(512, activation='relu'),\n",
    "    Dense(3, activation='softmax', name='output')\n",
    "])\n",
    "\n",
    "model.summary()"
   ]
  },
  {
   "cell_type": "code",
   "execution_count": 112,
   "metadata": {},
   "outputs": [],
   "source": [
    "model.compile(\n",
    "        optimizer='adam',\n",
    "        loss=['categorical_crossentropy'],\n",
    "        metrics=['accuracy']\n",
    "    )"
   ]
  },
  {
   "cell_type": "code",
   "execution_count": 113,
   "metadata": {},
   "outputs": [
    {
     "name": "stdout",
     "output_type": "stream",
     "text": [
      "Train for 5 steps, validate for 5 steps\n",
      "Epoch 1/10\n",
      "5/5 [==============================] - 16s 3s/step - loss: 1.0970 - accuracy: 0.2875 - val_loss: 1.0911 - val_accuracy: 0.4688\n",
      "Epoch 2/10\n",
      "5/5 [==============================] - 16s 3s/step - loss: 1.0684 - accuracy: 0.3125 - val_loss: 0.9910 - val_accuracy: 0.3562\n",
      "Epoch 3/10\n",
      "5/5 [==============================] - 16s 3s/step - loss: 0.8765 - accuracy: 0.5813 - val_loss: 0.6268 - val_accuracy: 0.7312\n",
      "Epoch 4/10\n",
      "5/5 [==============================] - 16s 3s/step - loss: 0.6046 - accuracy: 0.7812 - val_loss: 0.3830 - val_accuracy: 0.6375\n",
      "Epoch 5/10\n",
      "5/5 [==============================] - 16s 3s/step - loss: 0.3764 - accuracy: 0.7625 - val_loss: 0.6102 - val_accuracy: 0.6125\n",
      "Epoch 6/10\n",
      "5/5 [==============================] - 16s 3s/step - loss: 0.4690 - accuracy: 0.7000 - val_loss: 0.3286 - val_accuracy: 0.7437\n",
      "Epoch 7/10\n",
      "5/5 [==============================] - 17s 3s/step - loss: 0.3575 - accuracy: 0.8500 - val_loss: 0.2287 - val_accuracy: 0.9812\n",
      "Epoch 8/10\n",
      "5/5 [==============================] - 16s 3s/step - loss: 0.1755 - accuracy: 0.9875 - val_loss: 0.3230 - val_accuracy: 0.7688\n",
      "Epoch 9/10\n",
      "5/5 [==============================] - 16s 3s/step - loss: 0.1356 - accuracy: 0.9312 - val_loss: 0.2086 - val_accuracy: 0.8875\n",
      "Epoch 10/10\n",
      "5/5 [==============================] - 16s 3s/step - loss: 0.1015 - accuracy: 0.9563 - val_loss: 0.0196 - val_accuracy: 0.9812\n"
     ]
    }
   ],
   "source": [
    "history=model.fit(train_dataset,epochs=10,validation_data=test_dataset,steps_per_epoch=5,validation_steps=5)"
   ]
  },
  {
   "cell_type": "code",
   "execution_count": null,
   "metadata": {},
   "outputs": [],
   "source": [
    "training_loss"
   ]
  },
  {
   "cell_type": "code",
   "execution_count": 109,
   "metadata": {},
   "outputs": [
    {
     "data": {
      "image/png": "[encoded data removed]",
      "text/plain": [
       "<Figure size 432x288 with 1 Axes>"
      ]
     },
     "metadata": {
      "needs_background": "light"
     },
     "output_type": "display_data"
    }
   ],
   "source": [
    "\n",
    "# Get training and test loss histories\n",
    "training_loss = history.history['loss']\n",
    "test_loss = history.history['val_loss']\n",
    "training_accuracy = history.history['accuracy']\n",
    "test_accuracy = history.history['val_accuracy']\n",
    "# Create count of the number of epochs\n",
    "epoch_count = range(1, len(training_loss) + 1)\n",
    "\n",
    "# Visualize loss history\n",
    "plt.plot(epoch_count, training_loss, 'r--')\n",
    "plt.plot(epoch_count, test_loss, 'b-')\n",
    "plt.plot(epoch_count, training_accuracy, 'g--')\n",
    "plt.plot(epoch_count, test_accuracy, 'y-')\n",
    "plt.legend(['Training Loss', 'Test Loss','training_accuracy','test_accuracy'])\n",
    "plt.xlabel('Epoch')\n",
    "plt.ylabel('Loss / Accuracy')\n",
    "plt.show();"
   ]
  },
  {
   "cell_type": "code",
   "execution_count": null,
   "metadata": {},
   "outputs": [],
   "source": [
    "train_image_generator = ImageDataGenerator(rescale=1./255) # Generator for our training data\n",
    "validation_image_generator = ImageDataGenerator(rescale=1./255) # Generator for our validation data\n",
    "train_data_gen = train_image_generator.flow_from_directory(batch_size=batch_size,\n",
    "                                                           directory=train_dir,\n",
    "                                                           shuffle=True,\n",
    "                                                           target_size=(IMG_HEIGHT, IMG_WIDTH),\n",
    "                                                           )\n"
   ]
  }
 ],
 "metadata": {
  "kernelspec": {
   "display_name": "Python 3",
   "language": "python",
   "name": "python3"
  },
  "language_info": {
   "codemirror_mode": {
    "name": "ipython",
    "version": 3
   },
   "file_extension": ".py",
   "mimetype": "text/x-python",
   "name": "python",
   "nbconvert_exporter": "python",
   "pygments_lexer": "ipython3",
   "version": "3.5.2"
  }
 },
 "nbformat": 4,
 "nbformat_minor": 2
}
